{
  "nbformat": 4,
  "nbformat_minor": 0,
  "metadata": {
    "colab": {
      "provenance": [],
      "authorship_tag": "ABX9TyMT0LV1UgfKlig1gD44Qs4Z",
      "include_colab_link": true
    },
    "kernelspec": {
      "name": "python3",
      "display_name": "Python 3"
    },
    "language_info": {
      "name": "python"
    }
  },
  "cells": [
    {
      "cell_type": "markdown",
      "metadata": {
        "id": "view-in-github",
        "colab_type": "text"
      },
      "source": [
        "<a href=\"https://colab.research.google.com/github/Upendra6465/AI-Ml-Intern/blob/main/chatbot_using_nlp.ipynb\" target=\"_parent\"><img src=\"https://colab.research.google.com/assets/colab-badge.svg\" alt=\"Open In Colab\"/></a>"
      ]
    },
    {
      "cell_type": "code",
      "execution_count": 1,
      "metadata": {
        "id": "G0B7KAfnMGd8"
      },
      "outputs": [],
      "source": [
        "import nltk"
      ]
    },
    {
      "cell_type": "code",
      "source": [
        "from nltk.chat.util import Chat, reflections\n",
        "nltk.download('punkt')"
      ],
      "metadata": {
        "colab": {
          "base_uri": "https://localhost:8080/"
        },
        "id": "-G77kemqMTDZ",
        "outputId": "dee98207-f84c-4807-e841-a4194c5e93a5"
      },
      "execution_count": 3,
      "outputs": [
        {
          "output_type": "stream",
          "name": "stderr",
          "text": [
            "[nltk_data] Downloading package punkt to /root/nltk_data...\n",
            "[nltk_data]   Unzipping tokenizers/punkt.zip.\n"
          ]
        },
        {
          "output_type": "execute_result",
          "data": {
            "text/plain": [
              "True"
            ]
          },
          "metadata": {},
          "execution_count": 3
        }
      ]
    },
    {
      "cell_type": "code",
      "source": [
        "patterns = [\n",
        "    (r'(hi|hello|hey)', ['Hello!', 'Hi there!', 'Hey!']),\n",
        "    (r'how are you', ['I am good, thank you!', 'I\\'m doing well, how about you?']),\n",
        "    (r'(.*) your name', ['You can call me bot.']),\n",
        "    (r'(.*) (age|old)', ['I am just a computer program, so I don\\'t have an age.']),\n",
        "    (r'quit', ['Bye!', 'Goodbye.', 'Take care!']),\n",
        "    (r'what is your purpose', ['I\\'m here to assist and chat with you.']),\n",
        "    (r'how can you help me', ['I can provide information, answer questions, or just have a friendly chat.']),\n",
        "    (r'tell me a joke', ['Why don\\'t scientists trust atoms? Because they make up everything!']),\n",
        "    (r'favorite color', ['I don\\'t have a favorite color. I exist in the world of ones and zeros.']),\n",
        "    (r'who created you', ['I was created by upendra.']),\n",
        "    (r'weather (.*)', ['I\\'m sorry, I don\\'t have real-time weather information.']),\n",
        "    (r'(.*) programming language', ['I understand and process commands in Python.']),\n",
        "    (r'how to (.*)', ['I can help you with that. Please specify your question.']),\n",
        "    (r'your hobbies', ['I don\\'t have hobbies, but I enjoy helping you!']),\n",
        "    (r'(.*) meaning of life', ['The meaning of life is a philosophical question.']),\n",
        "    (r'what time is it', ['I\\'m sorry, I can\\'t check the time for you.']),\n",
        "    (r'what is your favorite (.*)', ['I don\\'t have personal preferences or favorites.']),\n",
        "    (r'can you (.*)', ['I\\'ll do my best to help with that.']),\n",
        "    (r'(.*) help (.*)', ['Sure, I\\'m here to help. What do you need assistance with?']),\n",
        "    (r'how (.*) you', ['I\\'m just a program, but I\\'m functioning as expected!']),\n",
        "    (r'(.*) (thanks|thank you)', ['You\\'re welcome!', 'No problem!']),\n",
        "    (r'what can you do', ['I can chat with you, answer questions, and provide information.']),\n",
        "    (r'(.*) (feel|feeling)', ['I don\\'t have feelings, but I\\'m here to assist you.']),\n",
        "    (r'(.*) (holiday|vacation)', ['I don\\'t experience holidays or vacations, but I can chat with you anytime!']),\n",
        "    (r'(.*) (game|play)', ['I don\\'t play games, but I can help with game-related questions.']),\n",
        "    (r'what (.*) (mean|means)', ['Can you please provide more context for your question?']),\n",
        "    (r'(.*) (book|read)', ['I don\\'t read books, but I can provide information about them.']),\n",
        "    (r'(.*) (music|listen)', ['I don\\'t listen to music, but I can help you find information about it.']),\n",
        "    (r'how do you (.*)', ['Can you specify what you want to know how to do?']),\n",
        "    (r'(.*) (food|eat)', ['I don\\'t eat food, but I can help you with recipes or food-related questions.']),\n",
        "    (r'(.*) (news|current events)', ['I don\\'t have real-time news updates, but I can discuss general topics.']),\n",
        "    (r'(.*) (language|speak)', ['I can understand and respond in multiple languages, though my primary is English.']),\n",
        "    (r'(.*) (learning|teach)', ['I can provide information and resources, but I can\\'t teach in the traditional sense.']),\n",
        "    (r'(.*) (joke|funny)', ['I love jokes! Here\\'s one: Why did the scarecrow win an award? Because he was outstanding in his field!']),\n",
        "]\n"
      ],
      "metadata": {
        "id": "Ya3YWgUgMS_6"
      },
      "execution_count": 29,
      "outputs": []
    },
    {
      "cell_type": "code",
      "source": [
        "chatbot = Chat(patterns, reflections)"
      ],
      "metadata": {
        "id": "87iIjbeRMS9H"
      },
      "execution_count": 30,
      "outputs": []
    },
    {
      "cell_type": "code",
      "source": [
        "def main():\n",
        "    print(\"Hello! I'm a chatbot. Type 'quit' to exit.\")\n",
        "    while True:\n",
        "        user_input = input('You: ')\n",
        "\n",
        "        if user_input.lower() == 'quit':\n",
        "            print(\"Chatbot: Bye!\")\n",
        "            break\n",
        "\n",
        "        response = chatbot.respond(user_input)\n",
        "        print(f'Chatbot: {response}')\n",
        "\n",
        "if __name__ == \"__main__\":\n",
        "    main()"
      ],
      "metadata": {
        "colab": {
          "base_uri": "https://localhost:8080/"
        },
        "id": "1A3rEsmVMS4f",
        "outputId": "5fe707f0-c224-4094-b277-3f4bc0f788fa"
      },
      "execution_count": 31,
      "outputs": [
        {
          "output_type": "stream",
          "name": "stdout",
          "text": [
            "Hello! I'm a chatbot. Type 'quit' to exit.\n",
            "You: hi\n",
            "Chatbot: Hello!\n",
            "You: hello\n",
            "Chatbot: Hi there!\n",
            "You: heyy\n",
            "Chatbot: Hi there!\n",
            "You: what is your name\n",
            "Chatbot: You can call me bot.\n",
            "You: what time is it\n",
            "Chatbot: I'm sorry, I can't check the time for you.\n",
            "You: today's news\n",
            "Chatbot: I don't have real-time news updates, but I can discuss general topics.\n",
            "You: who created you\n",
            "Chatbot: I was created by upendra.\n",
            "You: your age\n",
            "Chatbot: I am just a computer program, so I don't have an age.\n",
            "You: meaning of life\n",
            "Chatbot: None\n",
            "You: what can you do\n",
            "Chatbot: I can chat with you, answer questions, and provide information.\n",
            "You: thank you for your response\n",
            "Chatbot: None\n",
            "You: thank you\n",
            "Chatbot: None\n",
            "You: ok thank you \n",
            "Chatbot: You're welcome!\n",
            "You: quit\n",
            "Chatbot: Bye!\n"
          ]
        }
      ]
    }
  ]
}